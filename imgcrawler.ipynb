{
 "metadata": {
  "language_info": {
   "codemirror_mode": {
    "name": "ipython",
    "version": 3
   },
   "file_extension": ".py",
   "mimetype": "text/x-python",
   "name": "python",
   "nbconvert_exporter": "python",
   "pygments_lexer": "ipython3",
   "version": "3.8.5-final"
  },
  "orig_nbformat": 2,
  "kernelspec": {
   "name": "python3",
   "display_name": "Python 3",
   "language": "python"
  }
 },
 "nbformat": 4,
 "nbformat_minor": 2,
 "cells": [
  {
   "cell_type": "code",
   "execution_count": 6,
   "metadata": {},
   "outputs": [],
   "source": [
    "import requests\n",
    "from bs4 import BeautifulSoup as bs"
   ]
  },
  {
   "cell_type": "code",
   "execution_count": 95,
   "metadata": {},
   "outputs": [],
   "source": [
    "url_google = \"https://www.google.com/search?q=biting+nails&tbm=isch&ved=2ahUKEwjClZrKqYPuAhU3zIsBHbhpCxYQ2-cCegQIABAA&oq=biting+nails&gs_lcp=CgNpbWcQAzICCAAyBAgAEB4yBAgAEB4yBAgAEB4yBAgAEB4yBAgAEB4yBAgAEB4yBAgAEB4yBAgAEB4yBAgAEB5Q-gRY-gRg8AxoAHAAeACAAZsBiAGbAZIBAzAuMZgBAKABAaoBC2d3cy13aXotaW1nwAEB&sclient=img&ei=X5bzX4LqLbeYr7wPuNOtsAE&bih=937&biw=1920\"\n",
    "url_daum = \"https://search.daum.net/search?w=img&nil_search=btn&DA=NTB&enc=utf8&q=%EC%86%90%ED%86%B1%20%EB%AC%BC%EC%96%B4%EB%9C%AF%EB%8A%94%20%EC%82%AC%EC%A7%84\"\n",
    "html_g = requests.get(url_google).text\n",
    "html_d = requests.get(url_daum).text"
   ]
  },
  {
   "cell_type": "code",
   "execution_count": 92,
   "metadata": {},
   "outputs": [
    {
     "output_type": "execute_result",
     "data": {
      "text/plain": [
       "True"
      ]
     },
     "metadata": {},
     "execution_count": 92
    }
   ],
   "source": [
    "url_google == new"
   ]
  },
  {
   "cell_type": "code",
   "execution_count": 98,
   "metadata": {},
   "outputs": [
    {
     "output_type": "execute_result",
     "data": {
      "text/plain": [
       "[<img alt=\"Google\" class=\"kgJEQe\" src=\"/images/branding/searchlogo/1x/googlelogo_desk_heirloom_color_150x55dp.gif\"/>,\n",
       " <img alt=\"\" class=\"t0fcAb\" src=\"https://encrypted-tbn0.gstatic.com/images?q=tbn:ANd9GcTkOU5bS5f_avoEww946V1egmjcYEySlvYglOu0J-m9ViaQuEPUPpwZPnHqa1g&amp;s\"/>,\n",
       " <img alt=\"\" class=\"t0fcAb\" src=\"https://encrypted-tbn0.gstatic.com/images?q=tbn:ANd9GcQlS8XUSHQ4L3Osw2dJbWhaiNYqsTAlrs2Iy8z7C_f2NrWPuK3YrBM91fkBFA&amp;s\"/>,\n",
       " <img alt=\"\" class=\"t0fcAb\" src=\"https://encrypted-tbn0.gstatic.com/images?q=tbn:ANd9GcTZmSZbQHE_oI1tQjk7JDlRKh8fvfThuM5YHQj5F_tlFAMXWneLFR8sFghSp2I&amp;s\"/>,\n",
       " <img alt=\"\" class=\"t0fcAb\" src=\"https://encrypted-tbn0.gstatic.com/images?q=tbn:ANd9GcQGs_GeLrL98lidxI8qzFKAKhhMN3sR-7VRi6eVaqfjJXJ-fKa9cMS05PpCgQ&amp;s\"/>,\n",
       " <img alt=\"\" class=\"t0fcAb\" src=\"https://encrypted-tbn0.gstatic.com/images?q=tbn:ANd9GcQ4HghqbrLK1j6XXCrRqFZzha63R1FG9b1fkcL5XmxRP9g7VFKXgjkDyzFOBwE&amp;s\"/>,\n",
       " <img alt=\"\" class=\"t0fcAb\" src=\"https://encrypted-tbn0.gstatic.com/images?q=tbn:ANd9GcSNevmODEL6-cgA3PDwhqArHLDSk8nToN4S00ETCUMEDPtdm-YYLQ6dkQDVRg4&amp;s\"/>,\n",
       " <img alt=\"\" class=\"t0fcAb\" src=\"https://encrypted-tbn0.gstatic.com/images?q=tbn:ANd9GcS_X9Y02xvlR9At6LcnKUJ3MavuoAPp2_pciV-m7dZ86TjiN9dDpxfod1CFLE4&amp;s\"/>,\n",
       " <img alt=\"\" class=\"t0fcAb\" src=\"https://encrypted-tbn0.gstatic.com/images?q=tbn:ANd9GcSgOtIb3c2-6K5PcxRo_r1F8mAchS_CuZ79NaB94HDSlp8Y0yy7MPD5FD_akw&amp;s\"/>,\n",
       " <img alt=\"\" class=\"t0fcAb\" src=\"https://encrypted-tbn0.gstatic.com/images?q=tbn:ANd9GcRzMPRX88uJw0pYlYixaQxctz9jYBzv_xZIy4WDbMwQb4-5RxUDyp-J745yEQ&amp;s\"/>,\n",
       " <img alt=\"\" class=\"t0fcAb\" src=\"https://encrypted-tbn0.gstatic.com/images?q=tbn:ANd9GcSOOd-FP_WIFE5nDV0a124wG0R15N_RuLLDQvrJDAEGvtE7rOZAJcC6rDuPyQo&amp;s\"/>,\n",
       " <img alt=\"\" class=\"t0fcAb\" src=\"https://encrypted-tbn0.gstatic.com/images?q=tbn:ANd9GcT6-c6H-pF0VDCpX7xCNnd1YtFM8F1sebyc4v5YysJxy2xCnh8W-4kDDJeulw&amp;s\"/>,\n",
       " <img alt=\"\" class=\"t0fcAb\" src=\"https://encrypted-tbn0.gstatic.com/images?q=tbn:ANd9GcSvCyOD08XtRFj3oTE_anchZFR_8wBtqAAQhxf1lLTOM8OboIsKuxT462AkfKk&amp;s\"/>,\n",
       " <img alt=\"\" class=\"t0fcAb\" src=\"https://encrypted-tbn0.gstatic.com/images?q=tbn:ANd9GcQAAUbHPb_XffnqI-OM8IYeyrzNHmArZ0BNM0xq7aRkeNV2QgQg0QTfBOS1nQ&amp;s\"/>,\n",
       " <img alt=\"\" class=\"t0fcAb\" src=\"https://encrypted-tbn0.gstatic.com/images?q=tbn:ANd9GcQ7rhZPXh4E0Oz_RGKxrZ0acfNflfDYe8R416b5vaJtiJyDA23GP9Jlfs-cRQ&amp;s\"/>,\n",
       " <img alt=\"\" class=\"t0fcAb\" src=\"https://encrypted-tbn0.gstatic.com/images?q=tbn:ANd9GcTZW7ryU_iT4eS1RE6Z0HAotCr2bKhhzr7ZpLtYQTvEdRXTo30CMpbxhb6veeg&amp;s\"/>,\n",
       " <img alt=\"\" class=\"t0fcAb\" src=\"https://encrypted-tbn0.gstatic.com/images?q=tbn:ANd9GcTvMCqfY9pIHe9_FO_r1nrvFejbUg1yYJoGX2Gq4xkifR_RoCY1luPuOn-iQDw&amp;s\"/>,\n",
       " <img alt=\"\" class=\"t0fcAb\" src=\"https://encrypted-tbn0.gstatic.com/images?q=tbn:ANd9GcTDaDl3KV1T2rBkoI1OEl_cAIapSALEL4__yIyKGQGiDIEAeyJ8LLfJJJHFcw&amp;s\"/>,\n",
       " <img alt=\"\" class=\"t0fcAb\" src=\"https://encrypted-tbn0.gstatic.com/images?q=tbn:ANd9GcSE0aJDePF1ATKviRwlSskQfy_OYB9NOrQmPczgrnh6j7_cuu_4aPF3ljO7nkQ&amp;s\"/>,\n",
       " <img alt=\"\" class=\"t0fcAb\" src=\"https://encrypted-tbn0.gstatic.com/images?q=tbn:ANd9GcTpwa3wYXZqXBBA-Z4A40dpuQVKvzA80crj7QwgjRXLkZDjr11_HxtFB7zEzg&amp;s\"/>,\n",
       " <img alt=\"\" class=\"t0fcAb\" src=\"https://encrypted-tbn0.gstatic.com/images?q=tbn:ANd9GcQIT4pd9puGYNVapVM42DEkWBZ8dK0qPKIOZNZzctIVeL5Zdxg4QU6ZFywle2g&amp;s\"/>]"
      ]
     },
     "metadata": {},
     "execution_count": 98
    }
   ],
   "source": [
    "soup_g = bs(html_g, \"html.parser\")\n",
    "soup_g.find_all(\"img\")"
   ]
  },
  {
   "cell_type": "code",
   "execution_count": 100,
   "metadata": {},
   "outputs": [
    {
     "output_type": "execute_result",
     "data": {
      "text/plain": [
       "21"
      ]
     },
     "metadata": {},
     "execution_count": 100
    }
   ],
   "source": [
    "len(soup_g.find_all(\"img\"))"
   ]
  },
  {
   "cell_type": "code",
   "execution_count": 78,
   "metadata": {},
   "outputs": [
    {
     "output_type": "execute_result",
     "data": {
      "text/plain": [
       "[<div class=\"cont_img cont_tab\" id=\"imgList\"> </div>]"
      ]
     },
     "metadata": {},
     "execution_count": 78
    }
   ],
   "source": [
    "soup_d = bs(html_d, \"html.parser\")\n",
    "soup_d.select(\"div#imgList\")"
   ]
  },
  {
   "cell_type": "code",
   "execution_count": 42,
   "metadata": {},
   "outputs": [],
   "source": [
    "from urllib.request import urlopen\n",
    "from urllib.parse import quote_plus\n",
    "\n",
    "html = urlopen(url_daum)\n",
    "html\n",
    "html_doc = requests.get(url_daum).text"
   ]
  },
  {
   "cell_type": "code",
   "execution_count": 43,
   "metadata": {},
   "outputs": [],
   "source": [
    "soup = bs(html_doc, \"html.parser\")"
   ]
  },
  {
   "cell_type": "code",
   "execution_count": 65,
   "metadata": {},
   "outputs": [],
   "source": [
    "img = soup.find_all(\"div\", {\"id\" : \"imgList\"})#.find(\"div\", {\"class\" : \"wrap_thumb\"})"
   ]
  },
  {
   "cell_type": "code",
   "execution_count": 66,
   "metadata": {},
   "outputs": [
    {
     "output_type": "execute_result",
     "data": {
      "text/plain": [
       "[<div class=\"cont_img cont_tab\" id=\"imgList\"> </div>]"
      ]
     },
     "metadata": {},
     "execution_count": 66
    }
   ],
   "source": [
    "img"
   ]
  },
  {
   "cell_type": "code",
   "execution_count": 69,
   "metadata": {},
   "outputs": [],
   "source": [
    "img = soup.select(\"div#imgList > div\")"
   ]
  },
  {
   "cell_type": "code",
   "execution_count": 70,
   "metadata": {},
   "outputs": [
    {
     "output_type": "execute_result",
     "data": {
      "text/plain": [
       "[<div class=\"cont_img cont_tab\" id=\"imgList\"> </div>]"
      ]
     },
     "metadata": {},
     "execution_count": 70
    }
   ],
   "source": [
    "img"
   ]
  },
  {
   "cell_type": "code",
   "execution_count": 51,
   "metadata": {},
   "outputs": [
    {
     "output_type": "execute_result",
     "data": {
      "text/plain": [
       "[[], [], [], [], [], [], [], [], [], []]"
      ]
     },
     "metadata": {},
     "execution_count": 51
    }
   ],
   "source": [
    "img_num = 10\n",
    "img_list = []\n",
    "for n in range(img_num):\n",
    "    img_list.append(soup.select(f\"imgList > div:nth-child({n}) > a > img\"))\n",
    "img_list\n",
    "#imgList > div:nth-child(6) > a > img\n",
    "#imgList > div:nth-child(7) > a > img\n"
   ]
  },
  {
   "source": [
    "#  use selenium"
   ],
   "cell_type": "markdown",
   "metadata": {}
  },
  {
   "cell_type": "code",
   "execution_count": 101,
   "metadata": {},
   "outputs": [],
   "source": [
    "from selenium import webdriver\n",
    "from bs4 import BeautifulSoup as bs"
   ]
  },
  {
   "cell_type": "code",
   "execution_count": 110,
   "metadata": {},
   "outputs": [],
   "source": [
    "def scrap_img_google(search_name, img_num = None, download_path,\n",
    "                    file_name = \"\", file_extension = \"png\")\n",
    "    search_name = \"biting nails\"\n",
    "    url = \"https://www.google.com/search?q=\" + str(search_name) + \"&hl=ko&tbm=isch\"\n",
    "    browser = webdriver.Chrome('C:/Users/SEOHYEONPARK/chromedriver.exe')\n",
    "    browser.get(url)\n",
    "\n",
    "    img_list = browser.find_elements_by_tag_name(\"img\")\n",
    "    img_num = img_num if img_num else len(img_list)\n",
    "    print(\"로드된 이미지 개수 : \", len(img_list))\n",
    "    print(\"저장할 이미지 개수 : \", img_num)\n",
    "    browser.implicitly_wait(2)\n",
    "    for i in range(img_num):\n",
    "        img = image_list[i]\n",
    "        img.screenshot(f\"{download_path}{file_name}{str{i}}.{file_extension}\")\n",
    "    browser.close()\n",
    "    "
   ]
  },
  {
   "cell_type": "code",
   "execution_count": 117,
   "metadata": {},
   "outputs": [],
   "source": [
    "\n",
    "for i in range(img_num):\n",
    "    img = image_list[i]"
   ]
  },
  {
   "cell_type": "code",
   "execution_count": 119,
   "metadata": {},
   "outputs": [
    {
     "output_type": "execute_result",
     "data": {
      "text/plain": [
       "609"
      ]
     },
     "metadata": {},
     "execution_count": 119
    }
   ],
   "source": [
    "len(image_list)"
   ]
  },
  {
   "cell_type": "code",
   "execution_count": 120,
   "metadata": {},
   "outputs": [],
   "source": [
    "img_num = 609\n",
    "for i in range(img_num):\n",
    "    img = image_list[i]\n",
    "    img.screenshot(\"C:/Users/SEOHYEONPARK/keepdoing/habbit/make/wbn/image/biting\" + f\"/bn{str(i)}\" + \".png\")"
   ]
  },
  {
   "cell_type": "code",
   "execution_count": null,
   "metadata": {},
   "outputs": [],
   "source": []
  }
 ]
}